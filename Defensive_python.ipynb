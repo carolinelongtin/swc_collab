{
 "metadata": {
  "name": ""
 },
 "nbformat": 3,
 "nbformat_minor": 0,
 "worksheets": [
  {
   "cells": [
    {
     "cell_type": "code",
     "collapsed": false,
     "input": [
      "def DNA_sequence_complement (DNA):\n",
      "    DNA=DNA.replace(\"C\",\"M\")\n",
      "    DNA=DNA.replace(\"G\",\"C\")\n",
      "    DNA=DNA.replace(\"M\",\"G\")\n",
      "    DNA=DNA.replace(\"A\",\"M\")\n",
      "    DNA=DNA.replace(\"T\",\"A\")\n",
      "    DNA=DNA.replace(\"M\",\"T\")\n",
      "    return DNA"
     ],
     "language": "python",
     "metadata": {},
     "outputs": [],
     "prompt_number": 1
    },
    {
     "cell_type": "code",
     "collapsed": false,
     "input": [
      "seq = 'CGTGCCCTAACCAATTC'\n",
      "print DNA_sequence_complement(seq)\n",
      "print seq"
     ],
     "language": "python",
     "metadata": {},
     "outputs": [
      {
       "output_type": "stream",
       "stream": "stdout",
       "text": [
        "GCACGGGATTGGTTAAG\n",
        "CGTGCCCTAACCAATTC\n"
       ]
      }
     ],
     "prompt_number": 3
    },
    {
     "cell_type": "code",
     "collapsed": false,
     "input": [
      "DNA_sequence_complement('AGCU') #can't complement U because not defined"
     ],
     "language": "python",
     "metadata": {},
     "outputs": [
      {
       "metadata": {},
       "output_type": "pyout",
       "prompt_number": 6,
       "text": [
        "'TCGU'"
       ]
      }
     ],
     "prompt_number": 6
    },
    {
     "cell_type": "code",
     "collapsed": false,
     "input": [
      "'A' in 'ACGT' #is A in ACGT; output is Boolean (True/False)"
     ],
     "language": "python",
     "metadata": {},
     "outputs": [
      {
       "metadata": {},
       "output_type": "pyout",
       "prompt_number": 7,
       "text": [
        "True"
       ]
      }
     ],
     "prompt_number": 7
    },
    {
     "cell_type": "code",
     "collapsed": false,
     "input": [
      "'B' in 'ACGT'"
     ],
     "language": "python",
     "metadata": {},
     "outputs": [
      {
       "metadata": {},
       "output_type": "pyout",
       "prompt_number": 8,
       "text": [
        "False"
       ]
      }
     ],
     "prompt_number": 8
    },
    {
     "cell_type": "code",
     "collapsed": false,
     "input": [
      "if 'A' in 'ACGT': # if else, no then in python\n",
      "    print 'Yup, got it'\n",
      "else:\n",
      "    print 'Nope, not there'"
     ],
     "language": "python",
     "metadata": {},
     "outputs": [
      {
       "output_type": "stream",
       "stream": "stdout",
       "text": [
        "Yup, got it\n"
       ]
      }
     ],
     "prompt_number": 9
    },
    {
     "cell_type": "code",
     "collapsed": false,
     "input": [
      "if 'B' in 'ACGT':\n",
      "    print 'Yup, got it'\n",
      "else:\n",
      "    print 'Nope, not there'"
     ],
     "language": "python",
     "metadata": {},
     "outputs": [
      {
       "output_type": "stream",
       "stream": "stdout",
       "text": [
        "Nope, not there\n"
       ]
      }
     ],
     "prompt_number": 10
    },
    {
     "cell_type": "code",
     "collapsed": false,
     "input": [
      "def DNA_sequence_complement (DNA):\n",
      "    for c in DNA: # c = character\n",
      "        if c not in 'ACGT':\n",
      "            raise ValueError #to generate an error   \n",
      "    DNA=DNA.replace(\"C\",\"M\")\n",
      "    DNA=DNA.replace(\"G\",\"C\")\n",
      "    DNA=DNA.replace(\"M\",\"G\")\n",
      "    DNA=DNA.replace(\"A\",\"M\")\n",
      "    DNA=DNA.replace(\"T\",\"A\")\n",
      "    DNA=DNA.replace(\"M\",\"T\")\n",
      "    return DNA"
     ],
     "language": "python",
     "metadata": {},
     "outputs": [],
     "prompt_number": 11
    },
    {
     "cell_type": "code",
     "collapsed": false,
     "input": [
      "DNA_sequence_complement('ACGT')"
     ],
     "language": "python",
     "metadata": {},
     "outputs": [
      {
       "metadata": {},
       "output_type": "pyout",
       "prompt_number": 13,
       "text": [
        "'TGCA'"
       ]
      }
     ],
     "prompt_number": 13
    },
    {
     "cell_type": "code",
     "collapsed": false,
     "input": [
      "DNA_sequence_complement('ACGMM') #ValueError generated"
     ],
     "language": "python",
     "metadata": {},
     "outputs": [
      {
       "ename": "ValueError",
       "evalue": "",
       "output_type": "pyerr",
       "traceback": [
        "\u001b[0;31m---------------------------------------------------------------------------\u001b[0m\n\u001b[0;31mValueError\u001b[0m                                Traceback (most recent call last)",
        "\u001b[0;32m<ipython-input-14-4f7e57de6f71>\u001b[0m in \u001b[0;36m<module>\u001b[0;34m()\u001b[0m\n\u001b[0;32m----> 1\u001b[0;31m \u001b[0mDNA_sequence_complement\u001b[0m\u001b[0;34m(\u001b[0m\u001b[0;34m'ACGMM'\u001b[0m\u001b[0;34m)\u001b[0m\u001b[0;34m\u001b[0m\u001b[0m\n\u001b[0m",
        "\u001b[0;32m<ipython-input-11-a22fcffef844>\u001b[0m in \u001b[0;36mDNA_sequence_complement\u001b[0;34m(DNA)\u001b[0m\n\u001b[1;32m      2\u001b[0m     \u001b[0;32mfor\u001b[0m \u001b[0mc\u001b[0m \u001b[0;32min\u001b[0m \u001b[0mDNA\u001b[0m\u001b[0;34m:\u001b[0m \u001b[0;31m# c = character\u001b[0m\u001b[0;34m\u001b[0m\u001b[0m\n\u001b[1;32m      3\u001b[0m         \u001b[0;32mif\u001b[0m \u001b[0mc\u001b[0m \u001b[0;32mnot\u001b[0m \u001b[0;32min\u001b[0m \u001b[0;34m'ACGT'\u001b[0m\u001b[0;34m:\u001b[0m\u001b[0;34m\u001b[0m\u001b[0m\n\u001b[0;32m----> 4\u001b[0;31m             \u001b[0;32mraise\u001b[0m \u001b[0mValueError\u001b[0m \u001b[0;31m#to generate an error\u001b[0m\u001b[0;34m\u001b[0m\u001b[0m\n\u001b[0m\u001b[1;32m      5\u001b[0m     \u001b[0mDNA\u001b[0m\u001b[0;34m=\u001b[0m\u001b[0mDNA\u001b[0m\u001b[0;34m.\u001b[0m\u001b[0mreplace\u001b[0m\u001b[0;34m(\u001b[0m\u001b[0;34m\"C\"\u001b[0m\u001b[0;34m,\u001b[0m\u001b[0;34m\"M\"\u001b[0m\u001b[0;34m)\u001b[0m\u001b[0;34m\u001b[0m\u001b[0m\n\u001b[1;32m      6\u001b[0m     \u001b[0mDNA\u001b[0m\u001b[0;34m=\u001b[0m\u001b[0mDNA\u001b[0m\u001b[0;34m.\u001b[0m\u001b[0mreplace\u001b[0m\u001b[0;34m(\u001b[0m\u001b[0;34m\"G\"\u001b[0m\u001b[0;34m,\u001b[0m\u001b[0;34m\"C\"\u001b[0m\u001b[0;34m)\u001b[0m\u001b[0;34m\u001b[0m\u001b[0m\n",
        "\u001b[0;31mValueError\u001b[0m: "
       ]
      }
     ],
     "prompt_number": 14
    },
    {
     "cell_type": "code",
     "collapsed": false,
     "input": [
      "DNA_sequence_complement('agct')"
     ],
     "language": "python",
     "metadata": {},
     "outputs": [
      {
       "ename": "ValueError",
       "evalue": "",
       "output_type": "pyerr",
       "traceback": [
        "\u001b[0;31m---------------------------------------------------------------------------\u001b[0m\n\u001b[0;31mValueError\u001b[0m                                Traceback (most recent call last)",
        "\u001b[0;32m<ipython-input-15-868f5a5ad055>\u001b[0m in \u001b[0;36m<module>\u001b[0;34m()\u001b[0m\n\u001b[0;32m----> 1\u001b[0;31m \u001b[0mDNA_sequence_complement\u001b[0m\u001b[0;34m(\u001b[0m\u001b[0;34m'agct'\u001b[0m\u001b[0;34m)\u001b[0m\u001b[0;34m\u001b[0m\u001b[0m\n\u001b[0m",
        "\u001b[0;32m<ipython-input-11-a22fcffef844>\u001b[0m in \u001b[0;36mDNA_sequence_complement\u001b[0;34m(DNA)\u001b[0m\n\u001b[1;32m      2\u001b[0m     \u001b[0;32mfor\u001b[0m \u001b[0mc\u001b[0m \u001b[0;32min\u001b[0m \u001b[0mDNA\u001b[0m\u001b[0;34m:\u001b[0m \u001b[0;31m# c = character\u001b[0m\u001b[0;34m\u001b[0m\u001b[0m\n\u001b[1;32m      3\u001b[0m         \u001b[0;32mif\u001b[0m \u001b[0mc\u001b[0m \u001b[0;32mnot\u001b[0m \u001b[0;32min\u001b[0m \u001b[0;34m'ACGT'\u001b[0m\u001b[0;34m:\u001b[0m\u001b[0;34m\u001b[0m\u001b[0m\n\u001b[0;32m----> 4\u001b[0;31m             \u001b[0;32mraise\u001b[0m \u001b[0mValueError\u001b[0m \u001b[0;31m#to generate an error\u001b[0m\u001b[0;34m\u001b[0m\u001b[0m\n\u001b[0m\u001b[1;32m      5\u001b[0m     \u001b[0mDNA\u001b[0m\u001b[0;34m=\u001b[0m\u001b[0mDNA\u001b[0m\u001b[0;34m.\u001b[0m\u001b[0mreplace\u001b[0m\u001b[0;34m(\u001b[0m\u001b[0;34m\"C\"\u001b[0m\u001b[0;34m,\u001b[0m\u001b[0;34m\"M\"\u001b[0m\u001b[0;34m)\u001b[0m\u001b[0;34m\u001b[0m\u001b[0m\n\u001b[1;32m      6\u001b[0m     \u001b[0mDNA\u001b[0m\u001b[0;34m=\u001b[0m\u001b[0mDNA\u001b[0m\u001b[0;34m.\u001b[0m\u001b[0mreplace\u001b[0m\u001b[0;34m(\u001b[0m\u001b[0;34m\"G\"\u001b[0m\u001b[0;34m,\u001b[0m\u001b[0;34m\"C\"\u001b[0m\u001b[0;34m)\u001b[0m\u001b[0;34m\u001b[0m\u001b[0m\n",
        "\u001b[0;31mValueError\u001b[0m: "
       ]
      }
     ],
     "prompt_number": 15
    },
    {
     "cell_type": "code",
     "collapsed": false,
     "input": [
      "def DNA_sequence_complement (DNA):\n",
      "    \"\"\"This function is intended to take a DNA string \n",
      "    and return its complement;\n",
      "    NOT its reverse complement!\n",
      "    \"\"\"\n",
      "    DNA = DNA.upper() #to change to upper case letters\n",
      "    for c in DNA: # c = character\n",
      "        if c not in 'ACGT':\n",
      "            raise ValueError #to generate an error   \n",
      "    DNA=DNA.replace(\"C\",\"M\")\n",
      "    DNA=DNA.replace(\"G\",\"C\")\n",
      "    DNA=DNA.replace(\"M\",\"G\")\n",
      "    DNA=DNA.replace(\"A\",\"M\")\n",
      "    DNA=DNA.replace(\"T\",\"A\")\n",
      "    DNA=DNA.replace(\"M\",\"T\")\n",
      "    return DNA"
     ],
     "language": "python",
     "metadata": {},
     "outputs": [],
     "prompt_number": 22
    },
    {
     "cell_type": "code",
     "collapsed": false,
     "input": [
      "DNA_sequence_complement('acgt')"
     ],
     "language": "python",
     "metadata": {},
     "outputs": [
      {
       "metadata": {},
       "output_type": "pyout",
       "prompt_number": 17,
       "text": [
        "'TGCA'"
       ]
      }
     ],
     "prompt_number": 17
    },
    {
     "cell_type": "code",
     "collapsed": false,
     "input": [
      "help(DNA_sequence_complement)"
     ],
     "language": "python",
     "metadata": {},
     "outputs": [
      {
       "output_type": "stream",
       "stream": "stdout",
       "text": [
        "Help on function DNA_sequence_complement in module __main__:\n",
        "\n",
        "DNA_sequence_complement(DNA)\n",
        "    This function is intended to take a DNA string \n",
        "    and return its complement;\n",
        "    NOT its reverse complement!\n",
        "\n"
       ]
      }
     ],
     "prompt_number": 23
    },
    {
     "cell_type": "code",
     "collapsed": false,
     "input": [
      "def DNA_sequence_complement (DNA):\n",
      "    \"\"\"This function is intended to take a DNA string \n",
      "    and return its complement;\n",
      "    NOT its reverse complement!\n",
      "    \"\"\"\n",
      "    DNA = DNA.upper() #to change to upper case letters\n",
      "    for c in DNA: # c = character\n",
      "        assert c in 'ACGT'  # assert = this must be true or I will crash \n",
      "    DNA=DNA.replace(\"C\",\"M\")\n",
      "    DNA=DNA.replace(\"G\",\"C\")\n",
      "    DNA=DNA.replace(\"M\",\"G\")\n",
      "    DNA=DNA.replace(\"A\",\"M\")\n",
      "    DNA=DNA.replace(\"T\",\"A\")\n",
      "    DNA=DNA.replace(\"M\",\"T\")\n",
      "    return DNA"
     ],
     "language": "python",
     "metadata": {},
     "outputs": [],
     "prompt_number": 29
    },
    {
     "cell_type": "code",
     "collapsed": false,
     "input": [
      "DNA_sequence_complement('MMMGOOD')"
     ],
     "language": "python",
     "metadata": {},
     "outputs": [
      {
       "ename": "AssertionError",
       "evalue": "",
       "output_type": "pyerr",
       "traceback": [
        "\u001b[0;31m---------------------------------------------------------------------------\u001b[0m\n\u001b[0;31mAssertionError\u001b[0m                            Traceback (most recent call last)",
        "\u001b[0;32m<ipython-input-30-f2cc71a554b9>\u001b[0m in \u001b[0;36m<module>\u001b[0;34m()\u001b[0m\n\u001b[0;32m----> 1\u001b[0;31m \u001b[0mDNA_sequence_complement\u001b[0m\u001b[0;34m(\u001b[0m\u001b[0;34m'MMMGOOD'\u001b[0m\u001b[0;34m)\u001b[0m\u001b[0;34m\u001b[0m\u001b[0m\n\u001b[0m",
        "\u001b[0;32m<ipython-input-29-034558e03b23>\u001b[0m in \u001b[0;36mDNA_sequence_complement\u001b[0;34m(DNA)\u001b[0m\n\u001b[1;32m      6\u001b[0m     \u001b[0mDNA\u001b[0m \u001b[0;34m=\u001b[0m \u001b[0mDNA\u001b[0m\u001b[0;34m.\u001b[0m\u001b[0mupper\u001b[0m\u001b[0;34m(\u001b[0m\u001b[0;34m)\u001b[0m \u001b[0;31m#to change to upper case letters\u001b[0m\u001b[0;34m\u001b[0m\u001b[0m\n\u001b[1;32m      7\u001b[0m     \u001b[0;32mfor\u001b[0m \u001b[0mc\u001b[0m \u001b[0;32min\u001b[0m \u001b[0mDNA\u001b[0m\u001b[0;34m:\u001b[0m \u001b[0;31m# c = character\u001b[0m\u001b[0;34m\u001b[0m\u001b[0m\n\u001b[0;32m----> 8\u001b[0;31m         \u001b[0;32massert\u001b[0m \u001b[0mc\u001b[0m \u001b[0;32min\u001b[0m \u001b[0;34m'ACGT'\u001b[0m  \u001b[0;31m# assert = this must be true or I will crash\u001b[0m\u001b[0;34m\u001b[0m\u001b[0m\n\u001b[0m\u001b[1;32m      9\u001b[0m     \u001b[0mDNA\u001b[0m\u001b[0;34m=\u001b[0m\u001b[0mDNA\u001b[0m\u001b[0;34m.\u001b[0m\u001b[0mreplace\u001b[0m\u001b[0;34m(\u001b[0m\u001b[0;34m\"C\"\u001b[0m\u001b[0;34m,\u001b[0m\u001b[0;34m\"M\"\u001b[0m\u001b[0;34m)\u001b[0m\u001b[0;34m\u001b[0m\u001b[0m\n\u001b[1;32m     10\u001b[0m     \u001b[0mDNA\u001b[0m\u001b[0;34m=\u001b[0m\u001b[0mDNA\u001b[0m\u001b[0;34m.\u001b[0m\u001b[0mreplace\u001b[0m\u001b[0;34m(\u001b[0m\u001b[0;34m\"G\"\u001b[0m\u001b[0;34m,\u001b[0m\u001b[0;34m\"C\"\u001b[0m\u001b[0;34m)\u001b[0m\u001b[0;34m\u001b[0m\u001b[0m\n",
        "\u001b[0;31mAssertionError\u001b[0m: "
       ]
      }
     ],
     "prompt_number": 30
    },
    {
     "cell_type": "code",
     "collapsed": false,
     "input": [],
     "language": "python",
     "metadata": {},
     "outputs": []
    }
   ],
   "metadata": {}
  }
 ]
}